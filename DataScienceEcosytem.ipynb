{
 "cells": [
  {
   "cell_type": "markdown",
   "id": "39beb92a-17ad-4de2-81d2-91669d8846e1",
   "metadata": {},
   "source": [
    "# Data Science Tools and Ecosytem"
   ]
  },
  {
   "cell_type": "markdown",
   "id": "e88ef8f0-a211-4c99-a86e-18bc31e22067",
   "metadata": {},
   "source": [
    "In this notebook, Data Science Tools and Ecosytem are summarized."
   ]
  },
  {
   "cell_type": "markdown",
   "id": "891d7eb0-26a1-45ce-bcd6-2a7e6b6faa93",
   "metadata": {},
   "source": [
    "**Objectives:**\n",
    "- Python\n",
    "- R Language\n",
    "- SQL"
   ]
  },
  {
   "cell_type": "markdown",
   "id": "7fb3a92c-b17a-408c-82f8-f2698b219c91",
   "metadata": {},
   "source": [
    "1. Python\n",
    "2. Java\n",
    "3. C++"
   ]
  },
  {
   "cell_type": "markdown",
   "id": "874a98ba-0246-4041-aa91-2c358465ec7c",
   "metadata": {},
   "source": [
    "Some commonly used libraries used by Data Scientists include:\n",
    "1. Pandas\n",
    "2. Scikit-learn\n",
    "3. Numpy"
   ]
  },
  {
   "cell_type": "markdown",
   "id": "cf26c4b6-433e-4840-9f48-49d3bdfed4d0",
   "metadata": {},
   "source": [
    "|Data Science Tools|\n",
    "|------------------|\n",
    "|Jupter Notebook   |\n",
    "|R Studio          |\n",
    "|Python            |"
   ]
  },
  {
   "cell_type": "markdown",
   "id": "5c5d380b-139a-424f-9326-f5a064164381",
   "metadata": {},
   "source": [
    "### Below are a few examples of evaluating arithmetic expressions in Python."
   ]
  },
  {
   "cell_type": "code",
   "execution_count": 9,
   "id": "b792f103-56d1-431c-b0d8-459b7a251bd6",
   "metadata": {},
   "outputs": [
    {
     "data": {
      "text/plain": [
       "17"
      ]
     },
     "execution_count": 9,
     "metadata": {},
     "output_type": "execute_result"
    }
   ],
   "source": [
    "# This is a simple arithemtic expression to multiply then add integers.\n",
    "(3*4)+5"
   ]
  },
  {
   "cell_type": "code",
   "execution_count": 8,
   "id": "03c0a464-98a9-48ed-9a07-ac2ca7af876c",
   "metadata": {},
   "outputs": [
    {
     "data": {
      "text/plain": [
       "3.3333333333333335"
      ]
     },
     "execution_count": 8,
     "metadata": {},
     "output_type": "execute_result"
    }
   ],
   "source": [
    "#This will convert 200 minutes to hours by dividing by 60.\n",
    "(200/60)"
   ]
  },
  {
   "cell_type": "markdown",
   "id": "18c1f7fc-ec7f-4b7c-840b-6bf6cc6d0f8e",
   "metadata": {},
   "source": [
    "## Author\n",
    "Mokhele"
   ]
  },
  {
   "cell_type": "code",
   "execution_count": null,
   "id": "e601bb6f-e445-4299-a61e-57b708f9372d",
   "metadata": {},
   "outputs": [],
   "source": []
  }
 ],
 "metadata": {
  "kernelspec": {
   "display_name": "Python 3 (ipykernel)",
   "language": "python",
   "name": "python3"
  },
  "language_info": {
   "codemirror_mode": {
    "name": "ipython",
    "version": 3
   },
   "file_extension": ".py",
   "mimetype": "text/x-python",
   "name": "python",
   "nbconvert_exporter": "python",
   "pygments_lexer": "ipython3",
   "version": "3.12.0"
  }
 },
 "nbformat": 4,
 "nbformat_minor": 5
}
